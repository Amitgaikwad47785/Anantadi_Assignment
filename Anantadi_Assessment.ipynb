{
 "cells": [
  {
   "cell_type": "code",
   "execution_count": null,
   "id": "afd226e6",
   "metadata": {},
   "outputs": [],
   "source": [
    "pip install langchain openai\n"
   ]
  },
  {
   "cell_type": "code",
   "execution_count": null,
   "id": "7e7e32c2",
   "metadata": {},
   "outputs": [],
   "source": [
    "from chains.information_extractor import Information_Extractor\n",
    "import streamlit as st\n",
    "import os\n",
    "from dotenv import load_dotenv, find_dotenv\n",
    "from chains.tagger import Tagger\n",
    "from chains.summarizer import Summarizer\n",
    "from utils.logger import logger\n",
    "\n",
    "_ = load_dotenv(find_dotenv())  # read local .env file\n",
    "\n",
    "st.title(\"Imdb Chatbot\")\n",
    "logger.propagate = False\n",
    "# Initialize chat history\n",
    "if \"messages\" not in st.session_state:\n",
    "    st.session_state.messages = []\n",
    "\n",
    "# Display chat messages from history on app rerun\n",
    "for message in st.session_state.messages:\n",
    "    with st.chat_message(message[\"role\"]):\n",
    "        st.markdown(message[\"content\"])\n",
    "# Initialize the tagger, information extractor, and summarizer instances\n",
    "if \"tagger\" not in st.session_state:\n",
    "    st.session_state.tagger = Tagger(os.getenv(\"OPENAI_API_KEY\"))\n",
    "if \"information_extractor\" not in st.session_state:\n",
    "    st.session_state.information_extractor = Information_Extractor(os.getenv(\"OPENAI_API_KEY\"))\n",
    "if \"summarizer\" not in st.session_state:\n",
    "    st.session_state.summarizer = Summarizer(os.getenv(\"OPENAI_API_KEY\"))\n",
    "\n",
    "# React to user input\n",
    "if prompt := st.chat_input(\n",
    "    \"I am a helpful Imdb bot. Ask me anything about movies or TV Shows!\"\n",
    "):\n",
    "    try:\n",
    "        # tagger = Tagger(os.getenv(\"OPENAI_API_KEY\"))\n",
    "        # information_extractor = Information_Extractor(os.getenv(\"OPENAI_API_KEY\"))\n",
    "        # summarizer = Summarizer(os.getenv(\"OPENAI_API_KEY\"))\n",
    "        tagger = st.session_state.tagger\n",
    "        information_extractor = st.session_state.information_extractor\n",
    "        summarizer = st.session_state.summarizer\n",
    "        # Display user message in chat message container\n",
    "        with st.chat_message(\"user\"):\n",
    "            st.markdown(prompt)\n",
    "        # Add user message to chat history\n",
    "        st.session_state.messages.append({\"role\": \"user\", \"content\": prompt})\n",
    "        with st.chat_message(\"assistant\"):\n",
    "            st.markdown(\"Let me check that for you...\")\n",
    "        user_intent = tagger.extract_information(prompt)\n",
    "        with st.chat_message(\"assistant\"):\n",
    "            st.markdown(\n",
    "                f\"Got it! You want to know about the {user_intent.name} and want to talk about the {user_intent.intent}.\"\n",
    "            )\n",
    "        information = information_extractor.get_information(user_intent)\n",
    "        summary = summarizer.summarize(information, prompt)\n",
    "        # Display assistant response in chat message container\n",
    "        with st.chat_message(\"assistant\"):\n",
    "            st.markdown(summary)\n",
    "        st.session_state.messages.append({\"role\": \"assistant\", \"content\": summary})\n",
    "    except Exception as e:\n",
    "        logger.debug(f\"Error: {e}\")\n",
    "        message = f\"I was not able to process the request. I am an imdb bot and I can only answer questions about movies and TV shows.\"\n",
    "        st.markdown(message)\n",
    "        st.session_state.messages.append({\"role\": \"assistant\", \"content\": message})"
   ]
  }
 ],
 "metadata": {
  "kernelspec": {
   "display_name": "Python 3 (ipykernel)",
   "language": "python",
   "name": "python3"
  },
  "language_info": {
   "codemirror_mode": {
    "name": "ipython",
    "version": 3
   },
   "file_extension": ".py",
   "mimetype": "text/x-python",
   "name": "python",
   "nbconvert_exporter": "python",
   "pygments_lexer": "ipython3",
   "version": "3.9.12"
  }
 },
 "nbformat": 4,
 "nbformat_minor": 5
}
